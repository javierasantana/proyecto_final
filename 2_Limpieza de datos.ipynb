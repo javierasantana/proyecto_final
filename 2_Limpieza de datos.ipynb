{
 "cells": [
  {
   "cell_type": "markdown",
   "id": "5d805c00",
   "metadata": {},
   "source": [
    "<h1>Limpieza de datos</h1>"
   ]
  },
  {
   "cell_type": "code",
   "execution_count": 7,
   "id": "da5e0b81",
   "metadata": {},
   "outputs": [
    {
     "name": "stdout",
     "output_type": "stream",
     "text": [
      "Filas después de eliminar valores faltantes: 7986\n"
     ]
    }
   ],
   "source": [
    "# Aquí decidimos eliminar filas con valores faltantes.\n",
    "#df = df.dropna()\n",
    "#print(f\"Filas después de eliminar valores faltantes: {len(df)}\")"
   ]
  },
  {
   "cell_type": "code",
   "execution_count": 15,
   "id": "3dd00a78",
   "metadata": {},
   "outputs": [
    {
     "name": "stdout",
     "output_type": "stream",
     "text": [
      "\n",
      "Número de filas duplicadas: 0\n"
     ]
    }
   ],
   "source": [
    "# Revisión de datos: Casos duplicados\n",
    "duplicates = df.duplicated()\n",
    "num_duplicates = duplicates.sum()\n",
    "print(f\"\\nNúmero de filas duplicadas: {num_duplicates}\")\n",
    "#if num_duplicates > 0:\n",
    "#    df = df.drop_duplicates()\n",
    "#    print(\"Filas duplicadas eliminadas.\")"
   ]
  },
  {
   "cell_type": "code",
   "execution_count": 16,
   "id": "749eca9f",
   "metadata": {},
   "outputs": [
    {
     "name": "stdout",
     "output_type": "stream",
     "text": [
      "\n",
      "Valores faltantes en cada columna:\n",
      "Car Name    0\n",
      "Year        0\n",
      "Region      0\n",
      "FuelType    0\n",
      "Mileage     0\n",
      "Price       0\n",
      "dtype: int64\n"
     ]
    }
   ],
   "source": [
    "# Revisión de datos: Valores faltantes\n",
    "missing_values = df.isnull().sum()\n",
    "print(\"\\nValores faltantes en cada columna:\")\n",
    "print(missing_values)\n"
   ]
  },
  {
   "cell_type": "code",
   "execution_count": 23,
   "id": "1203ddaa",
   "metadata": {},
   "outputs": [
    {
     "name": "stdout",
     "output_type": "stream",
     "text": [
      "Filas después de eliminar valores faltantes: 7190\n"
     ]
    }
   ],
   "source": [
    "# Aquí decidimos eliminar filas con valores faltantes.\n",
    "df = df.dropna()\n",
    "print(f\"Filas después de eliminar valores faltantes: {len(df)}\")"
   ]
  },
  {
   "cell_type": "code",
   "execution_count": 24,
   "id": "a37107e0",
   "metadata": {},
   "outputs": [
    {
     "name": "stdout",
     "output_type": "stream",
     "text": [
      "\n",
      "Número de outliers en 'Mileage': 12\n",
      "Número de outliers en 'Price': 45\n"
     ]
    }
   ],
   "source": [
    "# Análisis de outliers usando el método IQR (en el fondo es el centro de los datos de una distribucion normal)\n",
    "Q1 = df[['Mileage', 'Price']].quantile(0.25)\n",
    "Q3 = df[['Mileage', 'Price']].quantile(0.75)\n",
    "IQR = Q3 - Q1\n",
    "\n",
    "outliers = ((df[['Mileage', 'Price']] < (Q1 - 1.5 * IQR)) | (df[['Mileage', 'Price']] > (Q3 + 1.5 * IQR)))\n",
    "outliers_count = outliers.sum()\n",
    "print(f\"\\nNúmero de outliers en 'Mileage': {outliers_count['Mileage']}\")\n",
    "print(f\"Número de outliers en 'Price': {outliers_count['Price']}\")\n",
    "\n",
    "# Si bien segun el criterio de IQR se observan outliers, para la naturaleza de la variable es factible\n",
    "#que existan precios muy elevados. La naturaleza de la variable Precio no sigue una distribucion normal."
   ]
  }
 ],
 "metadata": {
  "kernelspec": {
   "display_name": "Python 3 (ipykernel)",
   "language": "python",
   "name": "python3"
  },
  "language_info": {
   "codemirror_mode": {
    "name": "ipython",
    "version": 3
   },
   "file_extension": ".py",
   "mimetype": "text/x-python",
   "name": "python",
   "nbconvert_exporter": "python",
   "pygments_lexer": "ipython3",
   "version": "3.11.7"
  }
 },
 "nbformat": 4,
 "nbformat_minor": 5
}
