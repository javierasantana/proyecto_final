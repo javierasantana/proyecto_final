{
 "cells": [
  {
   "cell_type": "markdown",
   "id": "5d805c00",
   "metadata": {},
   "source": [
    "<h1>Creación de variables</h1>"
   ]
  },
  {
   "cell_type": "code",
   "execution_count": 9,
   "id": "883e838b",
   "metadata": {},
   "outputs": [],
   "source": [
    "# Calcular los parámetros estadísticos para 'Mileage'\n",
    "mileage_mean = df['Mileage'].mean()\n",
    "mileage_median = df['Mileage'].median()\n",
    "mileage_mode = df['Mileage'].mode()[0]\n",
    "mileage_std = df['Mileage'].std()\n",
    "mileage_variance = df['Mileage'].var()"
   ]
  },
  {
   "cell_type": "code",
   "execution_count": 10,
   "id": "bf4e853f",
   "metadata": {},
   "outputs": [
    {
     "name": "stdout",
     "output_type": "stream",
     "text": [
      "\n",
      "Parámetros estadísticos de 'Mileage':\n",
      "Media: 143623.0209374578\n",
      "Mediana: 130000.0\n",
      "Moda: 200000\n",
      "Desviación Estándar: 96973.40325589254\n",
      "Varianza: 9403840939.029951\n"
     ]
    }
   ],
   "source": [
    "# Resumen de parámetros estadísticos 'Mileage'\n",
    "print(\"\\nParámetros estadísticos de 'Mileage':\")\n",
    "print(f\"Media: {mileage_mean}\")\n",
    "print(f\"Mediana: {mileage_median}\")\n",
    "print(f\"Moda: {mileage_mode}\")\n",
    "print(f\"Desviación Estándar: {mileage_std}\")\n",
    "print(f\"Varianza: {mileage_variance}\")"
   ]
  },
  {
   "cell_type": "code",
   "execution_count": 11,
   "id": "944cf257",
   "metadata": {},
   "outputs": [],
   "source": [
    "# Calcular los parámetros estadísticos para 'Price'\n",
    "price_mean = df['Price'].mean()\n",
    "price_median = df['Price'].median()\n",
    "price_mode = df['Price'].mode()[0]\n",
    "price_std = df['Price'].std()\n",
    "price_variance = df['Price'].var()"
   ]
  },
  {
   "cell_type": "code",
   "execution_count": 21,
   "id": "ea1a6028",
   "metadata": {},
   "outputs": [
    {
     "name": "stdout",
     "output_type": "stream",
     "text": [
      "\n",
      "Parámetros estadísticos de 'Price':\n",
      "Media: 12591.152100499798\n",
      "Mediana: 10900.0\n",
      "Moda: 4000\n",
      "Desviación Estándar: 8430.94952727566\n",
      "Varianza: 71080909.93146968\n"
     ]
    }
   ],
   "source": [
    "#Resumen de parámetros estadísticos para 'Price'\n",
    "print(\"\\nParámetros estadísticos de 'Price':\")\n",
    "print(f\"Media: {price_mean}\")\n",
    "print(f\"Mediana: {price_median}\")\n",
    "print(f\"Moda: {price_mode}\")\n",
    "print(f\"Desviación Estándar: {price_std}\")\n",
    "print(f\"Varianza: {price_variance}\")"
   ]
  },
  {
   "cell_type": "code",
   "execution_count": 26,
   "id": "f918fe31",
   "metadata": {
    "scrolled": true
   },
   "outputs": [],
   "source": [
    "# Generar dos nuevas columnas 'Marca' y 'Name' a partir de 'Car Name'\n",
    "df[['Marca', 'Name']] = df['Car Name'].str.split(' ', 1, expand=True)"
   ]
  },
  {
   "cell_type": "code",
   "execution_count": 27,
   "id": "6eaabd94",
   "metadata": {},
   "outputs": [],
   "source": [
    "# Eliminar la columna original 'Car Name', ya que la informacion esta mejor desplegada en dos set\n",
    "df = df.drop(columns=['Car Name'])"
   ]
  },
  {
   "cell_type": "code",
   "execution_count": 29,
   "id": "e872df3e",
   "metadata": {},
   "outputs": [
    {
     "name": "stdout",
     "output_type": "stream",
     "text": [
      "\n",
      "Primeras filas del dataset con las nuevas columnas \n",
      "   Year    Region  FuelType  Mileage  Price  Marca     Name\n",
      "0  2002     Goris    Diesel   215000  12000   Ford  Transit\n",
      "1  2017    Ijevan  Gasoline    72000  11500   Ford    Focus\n",
      "3  2020  Nor Nork  Gasoline   100000  22000  Mazda        6\n",
      "4  1998   Armavir  Gasoline   318000   3500   Opel   Vectra\n",
      "5  2018  Nor Nork  Gasoline   127000  17800  Mazda        6\n"
     ]
    }
   ],
   "source": [
    "# Mostrar las primeras filas del dataframe modificado para verificar las nuevas columnas\n",
    "print(\"\\nPrimeras filas del dataset con las nuevas columnas \")\n",
    "print(df.head())"
   ]
  }
 ],
 "metadata": {
  "kernelspec": {
   "display_name": "Python 3 (ipykernel)",
   "language": "python",
   "name": "python3"
  },
  "language_info": {
   "codemirror_mode": {
    "name": "ipython",
    "version": 3
   },
   "file_extension": ".py",
   "mimetype": "text/x-python",
   "name": "python",
   "nbconvert_exporter": "python",
   "pygments_lexer": "ipython3",
   "version": "3.11.7"
  }
 },
 "nbformat": 4,
 "nbformat_minor": 5
}
